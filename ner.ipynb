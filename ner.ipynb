{
 "cells": [
  {
   "cell_type": "code",
   "execution_count": 1,
   "id": "5dba33a4",
   "metadata": {},
   "outputs": [
    {
     "data": {
      "application/vnd.jupyter.widget-view+json": {
       "model_id": "cbb17a93c994420b8a27800bd1d9dcdd",
       "version_major": 2,
       "version_minor": 0
      },
      "text/plain": [
       "VBox()"
      ]
     },
     "metadata": {},
     "output_type": "display_data"
    },
    {
     "name": "stdout",
     "output_type": "stream",
     "text": [
      "Starting Spark application\n"
     ]
    },
    {
     "data": {
      "text/html": [
       "<table>\n",
       "<tr><th>ID</th><th>YARN Application ID</th><th>Kind</th><th>State</th><th>Spark UI</th><th>Driver log</th><th>Current session?</th></tr><tr><td>2</td><td>application_1654110644840_0003</td><td>pyspark</td><td>idle</td><td><a target=\"_blank\" href=\"http://ip-172-31-94-98.ec2.internal:20888/proxy/application_1654110644840_0003/\" >Link</a></td><td><a target=\"_blank\" href=\"http://ip-172-31-84-252.ec2.internal:8042/node/containerlogs/container_1654110644840_0003_01_000001/livy\" >Link</a></td><td>✔</td></tr></table>"
      ],
      "text/plain": [
       "<IPython.core.display.HTML object>"
      ]
     },
     "metadata": {},
     "output_type": "display_data"
    },
    {
     "data": {
      "application/vnd.jupyter.widget-view+json": {
       "model_id": "",
       "version_major": 2,
       "version_minor": 0
      },
      "text/plain": [
       "FloatProgress(value=0.0, bar_style='info', description='Progress:', layout=Layout(height='25px', width='50%'),…"
      ]
     },
     "metadata": {},
     "output_type": "display_data"
    },
    {
     "name": "stdout",
     "output_type": "stream",
     "text": [
      "SparkSession available as 'spark'.\n"
     ]
    },
    {
     "data": {
      "application/vnd.jupyter.widget-view+json": {
       "model_id": "",
       "version_major": 2,
       "version_minor": 0
      },
      "text/plain": [
       "FloatProgress(value=0.0, bar_style='info', description='Progress:', layout=Layout(height='25px', width='50%'),…"
      ]
     },
     "metadata": {},
     "output_type": "display_data"
    }
   ],
   "source": [
    "from pyspark.ml import Pipeline\n",
    "import pyspark.sql.functions as F\n",
    "from sparknlp.annotator import *\n",
    "from sparknlp.base import *\n",
    "import sparknlp\n",
    "from sparknlp.pretrained import PretrainedPipeline"
   ]
  },
  {
   "cell_type": "code",
   "execution_count": 8,
   "id": "7788f10c",
   "metadata": {},
   "outputs": [
    {
     "data": {
      "application/vnd.jupyter.widget-view+json": {
       "model_id": "4a2636de775247efb247448c457f46ff",
       "version_major": 2,
       "version_minor": 0
      },
      "text/plain": [
       "VBox()"
      ]
     },
     "metadata": {},
     "output_type": "display_data"
    },
    {
     "data": {
      "application/vnd.jupyter.widget-view+json": {
       "model_id": "",
       "version_major": 2,
       "version_minor": 0
      },
      "text/plain": [
       "FloatProgress(value=0.0, bar_style='info', description='Progress:', layout=Layout(height='25px', width='50%'),…"
      ]
     },
     "metadata": {},
     "output_type": "display_data"
    }
   ],
   "source": [
    "data = spark.read.option(\"header\", True).option(\"multiline\", True).option(\"escape\",\"\\\"\").csv('s3://lsc-projct/*.csv')\n",
    "data = data.na.drop(subset=['username', 'content'])\n",
    "df = data[['content']]"
   ]
  },
  {
   "cell_type": "markdown",
   "id": "0e0e977d",
   "metadata": {},
   "source": [
    "## Named Entity Recognition (NER) with Bert Embeddings"
   ]
  },
  {
   "cell_type": "code",
   "execution_count": 3,
   "id": "dadd080a",
   "metadata": {},
   "outputs": [
    {
     "data": {
      "application/vnd.jupyter.widget-view+json": {
       "model_id": "9c505960262648f6a889b676ec03ff0f",
       "version_major": 2,
       "version_minor": 0
      },
      "text/plain": [
       "VBox()"
      ]
     },
     "metadata": {},
     "output_type": "display_data"
    },
    {
     "data": {
      "application/vnd.jupyter.widget-view+json": {
       "model_id": "",
       "version_major": 2,
       "version_minor": 0
      },
      "text/plain": [
       "FloatProgress(value=0.0, bar_style='info', description='Progress:', layout=Layout(height='25px', width='50%'),…"
      ]
     },
     "metadata": {},
     "output_type": "display_data"
    },
    {
     "name": "stdout",
     "output_type": "stream",
     "text": [
      "bert_base_cased download started this may take some time.\n",
      "Approximate size to download 389.1 MB\n",
      "[OK!]\n",
      "ner_dl_bert download started this may take some time.\n",
      "Approximate size to download 15.4 MB\n",
      "[OK!]"
     ]
    }
   ],
   "source": [
    "documentAssembler = DocumentAssembler() \\\n",
    "    .setInputCol('content') \\\n",
    "    .setOutputCol('document')\n",
    "\n",
    "tokenizer = Tokenizer() \\\n",
    "    .setInputCols(['document']) \\\n",
    "    .setOutputCol('token')\n",
    "\n",
    "embeddings = BertEmbeddings.pretrained(name='bert_base_cased', lang='en') \\\n",
    "    .setInputCols(['document', 'token']) \\\n",
    "    .setOutputCol('embeddings')\n",
    "\n",
    "ner_model = NerDLModel.pretrained(\"ner_dl_bert\", 'en') \\\n",
    "    .setInputCols(['document', 'token', 'embeddings']) \\\n",
    "    .setOutputCol('ner')\n",
    "\n",
    "ner_converter = NerConverter() \\\n",
    "    .setInputCols(['document', 'token', 'ner']) \\\n",
    "    .setOutputCol('ner_chunk')\n",
    "\n",
    "nlp_pipeline = Pipeline(stages=[\n",
    "    documentAssembler, \n",
    "    tokenizer,\n",
    "    embeddings,\n",
    "    ner_model,\n",
    "    ner_converter\n",
    "])"
   ]
  },
  {
   "cell_type": "code",
   "execution_count": 9,
   "id": "0a332c0d",
   "metadata": {},
   "outputs": [
    {
     "data": {
      "application/vnd.jupyter.widget-view+json": {
       "model_id": "3a36e43ace3f4c7dab7e49c66a16970d",
       "version_major": 2,
       "version_minor": 0
      },
      "text/plain": [
       "VBox()"
      ]
     },
     "metadata": {},
     "output_type": "display_data"
    },
    {
     "data": {
      "application/vnd.jupyter.widget-view+json": {
       "model_id": "",
       "version_major": 2,
       "version_minor": 0
      },
      "text/plain": [
       "FloatProgress(value=0.0, bar_style='info', description='Progress:', layout=Layout(height='25px', width='50%'),…"
      ]
     },
     "metadata": {},
     "output_type": "display_data"
    }
   ],
   "source": [
    "empty_df = spark.createDataFrame([['']]).toDF('content')\n",
    "pipeline_model = nlp_pipeline.fit(empty_df)\n",
    "result = pipeline_model.transform(df)"
   ]
  },
  {
   "cell_type": "markdown",
   "id": "49c8a52f",
   "metadata": {},
   "source": [
    "Extract entity tag for each chunk.\n",
    "Count the number of occurance of each chunk and sort in descending order."
   ]
  },
  {
   "cell_type": "code",
   "execution_count": 10,
   "id": "86b49d7e",
   "metadata": {},
   "outputs": [
    {
     "data": {
      "application/vnd.jupyter.widget-view+json": {
       "model_id": "b25ccd27ef464079a25d33f3fd798573",
       "version_major": 2,
       "version_minor": 0
      },
      "text/plain": [
       "VBox()"
      ]
     },
     "metadata": {},
     "output_type": "display_data"
    },
    {
     "data": {
      "application/vnd.jupyter.widget-view+json": {
       "model_id": "",
       "version_major": 2,
       "version_minor": 0
      },
      "text/plain": [
       "FloatProgress(value=0.0, bar_style='info', description='Progress:', layout=Layout(height='25px', width='50%'),…"
      ]
     },
     "metadata": {},
     "output_type": "display_data"
    }
   ],
   "source": [
    "res = result.select(F.explode(F.arrays_zip('ner_chunk.result', 'ner_chunk.metadata')).alias('cols')) \\\n",
    "  .select(F.expr(\"cols['0']\").alias('chunk'), \\\n",
    "          F.expr(\"cols['1'].entity\").alias('entity'))"
   ]
  },
  {
   "cell_type": "code",
   "execution_count": 15,
   "id": "b5d8b2fc",
   "metadata": {},
   "outputs": [
    {
     "data": {
      "application/vnd.jupyter.widget-view+json": {
       "model_id": "576c95f9f26e449a9a86b0b45ebda506",
       "version_major": 2,
       "version_minor": 0
      },
      "text/plain": [
       "VBox()"
      ]
     },
     "metadata": {},
     "output_type": "display_data"
    },
    {
     "data": {
      "application/vnd.jupyter.widget-view+json": {
       "model_id": "",
       "version_major": 2,
       "version_minor": 0
      },
      "text/plain": [
       "FloatProgress(value=0.0, bar_style='info', description='Progress:', layout=Layout(height='25px', width='50%'),…"
      ]
     },
     "metadata": {},
     "output_type": "display_data"
    },
    {
     "name": "stdout",
     "output_type": "stream",
     "text": [
      "+--------------------------+------+\n",
      "|chunk                     |entity|\n",
      "+--------------------------+------+\n",
      "|@NJGov                    |MISC  |\n",
      "|@IAMQUEENLATIFAH          |MISC  |\n",
      "|King County               |LOC   |\n",
      "|Catholic                  |MISC  |\n",
      "|Board                     |ORG   |\n",
      "|Anniversary               |MISC  |\n",
      "|Aussies                   |ORG   |\n",
      "|Community Commons         |ORG   |\n",
      "|Parks & Rec Leslie Knope  |ORG   |\n",
      "|Elizabeth Esposito        |PER   |\n",
      "|AICP                      |ORG   |\n",
      "|Latifah…my                |PER   |\n",
      "|Newark \n",
      "U.N.I.T.Y         |LOC   |\n",
      "|Latifah                   |MISC  |\n",
      "|Brick City                |LOC   |\n",
      "|Congress Holds Hearing    |ORG   |\n",
      "|Federally Assisted Housing|ORG   |\n",
      "|@JohnTory                 |PER   |\n",
      "|Bear Mountain             |ORG   |\n",
      "|City Manager              |ORG   |\n",
      "+--------------------------+------+\n",
      "only showing top 20 rows"
     ]
    }
   ],
   "source": [
    "res.show(20, truncate=False)"
   ]
  },
  {
   "cell_type": "markdown",
   "id": "476a607a",
   "metadata": {},
   "source": [
    "### Top names"
   ]
  },
  {
   "cell_type": "code",
   "execution_count": 11,
   "id": "52bae60e",
   "metadata": {},
   "outputs": [
    {
     "data": {
      "application/vnd.jupyter.widget-view+json": {
       "model_id": "739dab96988347ab8299dfd78901a89d",
       "version_major": 2,
       "version_minor": 0
      },
      "text/plain": [
       "VBox()"
      ]
     },
     "metadata": {},
     "output_type": "display_data"
    },
    {
     "data": {
      "application/vnd.jupyter.widget-view+json": {
       "model_id": "",
       "version_major": 2,
       "version_minor": 0
      },
      "text/plain": [
       "FloatProgress(value=0.0, bar_style='info', description='Progress:', layout=Layout(height='25px', width='50%'),…"
      ]
     },
     "metadata": {},
     "output_type": "display_data"
    },
    {
     "name": "stdout",
     "output_type": "stream",
     "text": [
      "+-------------------+-----+\n",
      "|chunk              |count|\n",
      "+-------------------+-----+\n",
      "|Biden              |18   |\n",
      "|Dave Chappelle     |13   |\n",
      "|Doug Ford          |11   |\n",
      "|Matt Kurzmann      |9    |\n",
      "|Chappelle          |7    |\n",
      "|Andrew Mikula      |7    |\n",
      "|Eric Salongo Kalisa|7    |\n",
      "|MacKenzie Scott    |5    |\n",
      "|Jeremiah Jarmin    |5    |\n",
      "|Anthony Buonicore  |5    |\n",
      "|Seth Barnett       |5    |\n",
      "|Alex Melikan       |4    |\n",
      "|Chrystal Kornegay  |4    |\n",
      "|Ford               |4    |\n",
      "|Neil Rosenthal     |4    |\n",
      "|Cruz III           |4    |\n",
      "|Katie Goar         |4    |\n",
      "|Emilio Dorcely     |4    |\n",
      "|Marcia Fudge       |4    |\n",
      "|John B             |4    |\n",
      "+-------------------+-----+\n",
      "only showing top 20 rows"
     ]
    }
   ],
   "source": [
    "person = res.filter(F.col('entity')=='PER')\n",
    "counts_per = person.groupBy('chunk').count().sort('count', ascending=False)\n",
    "counts_per.select('chunk', 'count').show(truncate=False)"
   ]
  },
  {
   "cell_type": "markdown",
   "id": "cdb1730c",
   "metadata": {},
   "source": [
    "### Top locations"
   ]
  },
  {
   "cell_type": "code",
   "execution_count": 12,
   "id": "a1d04e71",
   "metadata": {},
   "outputs": [
    {
     "data": {
      "application/vnd.jupyter.widget-view+json": {
       "model_id": "64c26a3e1fdb4a58be2e6426ba3174c0",
       "version_major": 2,
       "version_minor": 0
      },
      "text/plain": [
       "VBox()"
      ]
     },
     "metadata": {},
     "output_type": "display_data"
    },
    {
     "data": {
      "application/vnd.jupyter.widget-view+json": {
       "model_id": "",
       "version_major": 2,
       "version_minor": 0
      },
      "text/plain": [
       "FloatProgress(value=0.0, bar_style='info', description='Progress:', layout=Layout(height='25px', width='50%'),…"
      ]
     },
     "metadata": {},
     "output_type": "display_data"
    },
    {
     "name": "stdout",
     "output_type": "stream",
     "text": [
      "+-------------+-----+\n",
      "|chunk        |count|\n",
      "+-------------+-----+\n",
      "|America      |88   |\n",
      "|U.S          |73   |\n",
      "|California   |61   |\n",
      "|Bamboo       |60   |\n",
      "|Crypto       |60   |\n",
      "|Ontario      |56   |\n",
      "|US           |52   |\n",
      "|Canada       |49   |\n",
      "|Florida      |42   |\n",
      "|Toronto      |29   |\n",
      "|NYC          |29   |\n",
      "|CA           |24   |\n",
      "|Vancouver    |23   |\n",
      "|LA           |22   |\n",
      "|Colorado     |20   |\n",
      "|NY           |20   |\n",
      "|MA           |20   |\n",
      "|BC           |18   |\n",
      "|San Francisco|17   |\n",
      "|Charlotte    |17   |\n",
      "+-------------+-----+\n",
      "only showing top 20 rows"
     ]
    }
   ],
   "source": [
    "locations = res.filter(F.col('entity')=='LOC')\n",
    "counts_loc = locations.groupBy('chunk').count().sort('count', ascending=False)\n",
    "counts_loc.select('chunk', 'count').show(truncate=False)"
   ]
  },
  {
   "cell_type": "code",
   "execution_count": null,
   "id": "0fe37c4c",
   "metadata": {},
   "outputs": [],
   "source": []
  }
 ],
 "metadata": {
  "kernelspec": {
   "display_name": "PySpark",
   "language": "",
   "name": "pysparkkernel"
  },
  "language_info": {
   "codemirror_mode": {
    "name": "python",
    "version": 3
   },
   "mimetype": "text/x-python",
   "name": "pyspark",
   "pygments_lexer": "python3"
  }
 },
 "nbformat": 4,
 "nbformat_minor": 5
}
