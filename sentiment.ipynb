{
  "cells": [
    {
      "cell_type": "markdown",
      "source": [
        "## AWS credentials for colab notebook"
      ],
      "metadata": {
        "id": "FMu_nG0mZzfi"
      }
    },
    {
      "cell_type": "code",
      "source": [
        "from google.colab import drive\n",
        "drive.mount('/content/drive')"
      ],
      "metadata": {
        "colab": {
          "base_uri": "https://localhost:8080/"
        },
        "id": "OK33XjCsX22J",
        "outputId": "758fe318-8a5e-4696-ded3-e150a1d89dc7"
      },
      "execution_count": 3,
      "outputs": [
        {
          "output_type": "stream",
          "name": "stdout",
          "text": [
            "Mounted at /content/drive\n"
          ]
        }
      ]
    },
    {
      "cell_type": "code",
      "source": [
        "! pip install awscli"
      ],
      "metadata": {
        "colab": {
          "base_uri": "https://localhost:8080/"
        },
        "id": "lEdymZELYw8y",
        "outputId": "5eebbd2d-44c2-4b27-a92b-92be2ab0e47b"
      },
      "execution_count": 4,
      "outputs": [
        {
          "output_type": "stream",
          "name": "stdout",
          "text": [
            "Looking in indexes: https://pypi.org/simple, https://us-python.pkg.dev/colab-wheels/public/simple/\n",
            "Collecting awscli\n",
            "  Downloading awscli-1.25.0-py3-none-any.whl (3.9 MB)\n",
            "\u001b[K     |████████████████████████████████| 3.9 MB 4.3 MB/s \n",
            "\u001b[?25hCollecting rsa<4.8,>=3.1.2\n",
            "  Downloading rsa-4.7.2-py3-none-any.whl (34 kB)\n",
            "Collecting colorama<0.4.5,>=0.2.5\n",
            "  Downloading colorama-0.4.4-py2.py3-none-any.whl (16 kB)\n",
            "Collecting botocore==1.27.0\n",
            "  Downloading botocore-1.27.0-py3-none-any.whl (8.8 MB)\n",
            "\u001b[K     |████████████████████████████████| 8.8 MB 45.6 MB/s \n",
            "\u001b[?25hCollecting s3transfer<0.7.0,>=0.6.0\n",
            "  Downloading s3transfer-0.6.0-py3-none-any.whl (79 kB)\n",
            "\u001b[K     |████████████████████████████████| 79 kB 7.7 MB/s \n",
            "\u001b[?25hCollecting docutils<0.17,>=0.10\n",
            "  Downloading docutils-0.16-py2.py3-none-any.whl (548 kB)\n",
            "\u001b[K     |████████████████████████████████| 548 kB 59.7 MB/s \n",
            "\u001b[?25hRequirement already satisfied: PyYAML<5.5,>=3.10 in /usr/local/lib/python3.7/dist-packages (from awscli) (3.13)\n",
            "Collecting urllib3<1.27,>=1.25.4\n",
            "  Downloading urllib3-1.26.9-py2.py3-none-any.whl (138 kB)\n",
            "\u001b[K     |████████████████████████████████| 138 kB 59.6 MB/s \n",
            "\u001b[?25hRequirement already satisfied: python-dateutil<3.0.0,>=2.1 in /usr/local/lib/python3.7/dist-packages (from botocore==1.27.0->awscli) (2.8.2)\n",
            "Collecting jmespath<2.0.0,>=0.7.1\n",
            "  Downloading jmespath-1.0.0-py3-none-any.whl (23 kB)\n",
            "Requirement already satisfied: six>=1.5 in /usr/local/lib/python3.7/dist-packages (from python-dateutil<3.0.0,>=2.1->botocore==1.27.0->awscli) (1.15.0)\n",
            "Requirement already satisfied: pyasn1>=0.1.3 in /usr/local/lib/python3.7/dist-packages (from rsa<4.8,>=3.1.2->awscli) (0.4.8)\n",
            "Installing collected packages: urllib3, jmespath, botocore, s3transfer, rsa, docutils, colorama, awscli\n",
            "  Attempting uninstall: urllib3\n",
            "    Found existing installation: urllib3 1.24.3\n",
            "    Uninstalling urllib3-1.24.3:\n",
            "      Successfully uninstalled urllib3-1.24.3\n",
            "  Attempting uninstall: rsa\n",
            "    Found existing installation: rsa 4.8\n",
            "    Uninstalling rsa-4.8:\n",
            "      Successfully uninstalled rsa-4.8\n",
            "  Attempting uninstall: docutils\n",
            "    Found existing installation: docutils 0.17.1\n",
            "    Uninstalling docutils-0.17.1:\n",
            "      Successfully uninstalled docutils-0.17.1\n",
            "\u001b[31mERROR: pip's dependency resolver does not currently take into account all the packages that are installed. This behaviour is the source of the following dependency conflicts.\n",
            "requests 2.23.0 requires urllib3!=1.25.0,!=1.25.1,<1.26,>=1.21.1, but you have urllib3 1.26.9 which is incompatible.\n",
            "datascience 0.10.6 requires folium==0.2.1, but you have folium 0.8.3 which is incompatible.\u001b[0m\n",
            "Successfully installed awscli-1.25.0 botocore-1.27.0 colorama-0.4.4 docutils-0.16 jmespath-1.0.0 rsa-4.7.2 s3transfer-0.6.0 urllib3-1.26.9\n"
          ]
        }
      ]
    },
    {
      "cell_type": "code",
      "source": [
        "text = '''\n",
        "[default]\n",
        "aws_access_key_id = \n",
        "aws_secret_access_key = \n",
        "aws_session_token=\n",
        "region = us-east-1\n",
        "'''\n",
        "path = \"/content/drive/My Drive/config/awscli.ini\"\n",
        "with open(path, 'w') as f:\n",
        "   f.write(text)"
      ],
      "metadata": {
        "id": "DexWTZ1TYyae"
      },
      "execution_count": 6,
      "outputs": []
    },
    {
      "cell_type": "code",
      "source": [
        "import os\n",
        "! export AWS_SHARED_CREDENTIALS_FILE=/content/drive/My\\ Drive/config/awscli.ini\n",
        "os.environ['AWS_SHARED_CREDENTIALS_FILE'] = path"
      ],
      "metadata": {
        "id": "NCDnEqFvZZ9n"
      },
      "execution_count": 7,
      "outputs": []
    },
    {
      "cell_type": "code",
      "source": [
        "! aws s3 cp s3://lsc-projct ./data/ --recursive"
      ],
      "metadata": {
        "colab": {
          "base_uri": "https://localhost:8080/"
        },
        "id": "jEDEL_Tla_PT",
        "outputId": "ec2f0070-ca2b-44ab-d443-d9663c5a1406"
      },
      "execution_count": 13,
      "outputs": [
        {
          "output_type": "stream",
          "name": "stdout",
          "text": [
            "download: s3://lsc-projct/3.csv to data/3.csv                     \n",
            "download: s3://lsc-projct/4.csv to data/4.csv                 \n",
            "download: s3://lsc-projct/2.csv to data/2.csv                 \n",
            "download: s3://lsc-projct/5.csv to data/5.csv                 \n"
          ]
        }
      ]
    },
    {
      "cell_type": "markdown",
      "source": [
        "## Import libraries"
      ],
      "metadata": {
        "id": "gS2YrXovZ-Gg"
      }
    },
    {
      "cell_type": "code",
      "execution_count": 9,
      "metadata": {
        "colab": {
          "base_uri": "https://localhost:8080/"
        },
        "id": "w6o8-g0tEqNz",
        "outputId": "ce7f1007-41e0-4468-fa87-94d07287e843"
      },
      "outputs": [
        {
          "output_type": "stream",
          "name": "stdout",
          "text": [
            "\u001b[K     |████████████████████████████████| 212.4 MB 61 kB/s \n",
            "\u001b[K     |████████████████████████████████| 145 kB 32.3 MB/s \n",
            "\u001b[K     |████████████████████████████████| 198 kB 43.0 MB/s \n",
            "\u001b[?25h  Building wheel for pyspark (setup.py) ... \u001b[?25l\u001b[?25hdone\n"
          ]
        }
      ],
      "source": [
        "# Install PySpark and Spark NLP\n",
        "! pip install -q pyspark==3.1.2 spark-nlp"
      ]
    },
    {
      "cell_type": "code",
      "execution_count": 10,
      "metadata": {
        "id": "yMmT9S6mE0ad"
      },
      "outputs": [],
      "source": [
        "import pandas as pd\n",
        "import numpy as np\n",
        "import json\n",
        "from pyspark.ml import Pipeline\n",
        "from pyspark.sql import SparkSession\n",
        "import pyspark.sql.functions as F\n",
        "from sparknlp.annotator import *\n",
        "from sparknlp.base import *\n",
        "import sparknlp\n",
        "from sparknlp.pretrained import PretrainedPipeline"
      ]
    },
    {
      "cell_type": "code",
      "execution_count": 11,
      "metadata": {
        "id": "4zBXbY_vE2ss"
      },
      "outputs": [],
      "source": [
        "spark = sparknlp.start()"
      ]
    },
    {
      "cell_type": "code",
      "source": [
        "data = spark.read.option(\"header\", True).option(\"multiline\", True).option(\"escape\",\"\\\"\") \\\n",
        "        .csv('./data/*.csv')\n",
        "\n",
        "df = data.na.drop(subset=['content'])"
      ],
      "metadata": {
        "id": "Y0R9gWCeTOgV"
      },
      "execution_count": 14,
      "outputs": []
    },
    {
      "cell_type": "markdown",
      "source": [
        "## Emotion"
      ],
      "metadata": {
        "id": "4vUVDDoiafRc"
      }
    },
    {
      "cell_type": "code",
      "source": [
        "MODEL_NAME='classifierdl_use_emotion'\n",
        "\n",
        "documentAssembler = DocumentAssembler()\\\n",
        "    .setInputCol(\"content\")\\\n",
        "    .setOutputCol(\"document\")\n",
        "    \n",
        "use = UniversalSentenceEncoder.pretrained(name=\"tfhub_use\", lang=\"en\")\\\n",
        " .setInputCols([\"document\"])\\\n",
        " .setOutputCol(\"sentence_embeddings\")\n",
        "\n",
        "\n",
        "sentimentdl = ClassifierDLModel.pretrained(name=MODEL_NAME)\\\n",
        "    .setInputCols([\"sentence_embeddings\"])\\\n",
        "    .setOutputCol(\"sentiment\")\n",
        "\n",
        "nlpPipeline = Pipeline(\n",
        "      stages = [\n",
        "          documentAssembler,\n",
        "          use,\n",
        "          sentimentdl\n",
        "      ])"
      ],
      "metadata": {
        "id": "Ua_j19PgWMUC",
        "colab": {
          "base_uri": "https://localhost:8080/"
        },
        "outputId": "4381b2e1-5a58-4f86-815a-a057a68bd065"
      },
      "execution_count": 15,
      "outputs": [
        {
          "output_type": "stream",
          "name": "stdout",
          "text": [
            "tfhub_use download started this may take some time.\n",
            "Approximate size to download 923.7 MB\n",
            "[OK!]\n",
            "classifierdl_use_emotion download started this may take some time.\n",
            "Approximate size to download 21.3 MB\n",
            "[OK!]\n"
          ]
        }
      ]
    },
    {
      "cell_type": "code",
      "source": [
        "empty_df = spark.createDataFrame([['']]).toDF(\"text\")\n",
        "pipelineModel = nlpPipeline.fit(empty_df)\n",
        "result = pipelineModel.transform(df)"
      ],
      "metadata": {
        "id": "Cc8JNKEgb2zb"
      },
      "execution_count": 16,
      "outputs": []
    },
    {
      "cell_type": "code",
      "source": [
        "res = result.select(F.explode(F.arrays_zip('document.result', 'sentiment.result')).alias(\"cols\")) \\\n",
        ".select(F.expr(\"cols['0']\").alias(\"document\"),\n",
        "        F.expr(\"cols['1']\").alias(\"sentiment\"))\n"
      ],
      "metadata": {
        "id": "PxG0ObfrcDEB"
      },
      "execution_count": 17,
      "outputs": []
    },
    {
      "cell_type": "code",
      "source": [
        "res.groupby('sentiment').count().show()"
      ],
      "metadata": {
        "colab": {
          "base_uri": "https://localhost:8080/"
        },
        "id": "W7u-lcq5cE4v",
        "outputId": "76e3bd7b-31fb-4b37-ae0f-1c7a2fcf7596"
      },
      "execution_count": 18,
      "outputs": [
        {
          "output_type": "stream",
          "name": "stdout",
          "text": [
            "+---------+-----+\n",
            "|sentiment|count|\n",
            "+---------+-----+\n",
            "|      joy| 4429|\n",
            "|     fear| 2876|\n",
            "| surprise|  733|\n",
            "|  sadness|  379|\n",
            "+---------+-----+\n",
            "\n"
          ]
        }
      ]
    },
    {
      "cell_type": "code",
      "source": [
        "res.select('document').filter(F.col('sentiment')=='joy').show(10, truncate=False)"
      ],
      "metadata": {
        "colab": {
          "base_uri": "https://localhost:8080/"
        },
        "id": "8uIrZsC8cILy",
        "outputId": "d10346b3-1703-45a1-ee48-6ddb6bb42a98"
      },
      "execution_count": 19,
      "outputs": [
        {
          "output_type": "stream",
          "name": "stdout",
          "text": [
            "+-------------------------------------------------------------------------------------------------------------------------------------------------------------------------------------------------------------------------------------------------------------------------------------------+\n",
            "|document                                                                                                                                                                                                                                                                                   |\n",
            "+-------------------------------------------------------------------------------------------------------------------------------------------------------------------------------------------------------------------------------------------------------------------------------------------+\n",
            "|Don't forget! GiveBIG is May 3-4. Make your donation to #habitatskc to provide #affordablehousing solutions for King County families.\n",
            "\n",
            "Early giving is currently open!\n",
            "\n",
            "Donate: https://wagives.org/organization/habitat-for-humanity-seattle-king-county…                                 |\n",
            "|.\n",
            "@AndoverCLT\n",
            " is one such organization, building a more vibrant community by advocating, developing and preserving #affordablehousing. Proud to be a member of their Board and to have attended their 30th Anniversary celebration today with \n",
            "@Barry_Finegold\n",
            " and \n",
            "@TeamTram\n",
            ". #yimby   |\n",
            "|Coming up on Community Commons this May! What are we missing?\n",
            "\n",
            "#AAPIHeritageMonth\n",
            "#MentalHealthMonth\n",
            "#JewishHeritageMonth\n",
            "#CleanAirMonth\n",
            "#AffordableHousing\n",
            "#MayDay2022\n",
            "#BetterSpeechAndHearingMonth\n",
            "#EDSAwareness\n",
            "@samhsagov\n",
            " @LungAssociation\n",
            " @ChildrensMHM\n",
            " @YMHProject\n",
            " @ASHAWeb      |\n",
            "|Resident food gardens and pollinator on affordable housing property #affordablehousing #gardening #foodjustice #foodsecurity #growinghopegardens                                                                                                                                           |\n",
            "|Here to support passing the Hotel Conversion Bill that will create critically needed #affordablehousing. This is a successful program in Cali which converted <6,000 affordable units already! \n",
            "@NYCMayor\n",
            " @NYHTC\n",
            " @NYCHRA\n",
            " @BrianKavanaghNY\n",
            " @AmandaFariasNYC\n",
            " @PiSanchezNYC\n",
            " @galeabrewer|\n",
            "| Move-in Day\n",
            "\n",
            "Today, three of our Habitat families become homeowners!   Congratulations & welcome HOME!  \n",
            "\n",
            "#Affordablehousing #homeowners \n",
            "#Welcomehome                                                                                                                                    |\n",
            "|.⁦\n",
            "@latimesopinion\n",
            "⁩: ⁦\n",
            "@latimes\n",
            "⁩ mapped the warehouse takeover of the #InlandEmpire. The results are overwhelming. #Jobs #ECommerce #Sustainability #affordablehousing                                                                                                                   |\n",
            "|Everyone was all  at our recent Copper Pines dedication. A special thank you to \n",
            "@NoelFrame\n",
            ", \n",
            "@CMTMosqueda\n",
            " and \n",
            "@LizBerryWA\n",
            " for attending.  #selfie #affordablehousing #habitatskc                                                                                                      |\n",
            "|Take a video tour of a unique and amazing #affordablehousing project that combines accessible units for people with disabilities and below-market homes for local families.                                                                                                                |\n",
            "|Applications now being accepted in #ClintonCounty. One, two, and three bedrooms available at The Northwoods in #Plattsburgh. Deadline to apply is June 10th. For more #affordablehousing lotteries, visit: https://hcr.ny.gov/lotteries                                                    |\n",
            "+-------------------------------------------------------------------------------------------------------------------------------------------------------------------------------------------------------------------------------------------------------------------------------------------+\n",
            "only showing top 10 rows\n",
            "\n"
          ]
        }
      ]
    },
    {
      "cell_type": "code",
      "source": [
        "res.select('document').filter(F.col('sentiment')=='fear').show(10, truncate=False)"
      ],
      "metadata": {
        "colab": {
          "base_uri": "https://localhost:8080/"
        },
        "id": "mm-lr5k9duuo",
        "outputId": "54eb161c-f49a-4d01-a621-677131f4f67d"
      },
      "execution_count": 20,
      "outputs": [
        {
          "output_type": "stream",
          "name": "stdout",
          "text": [
            "+---------------------------------------------------------------------------------------------------------------------------------------------------------------------------------------------------------------------------------------------------------------------------------------+\n",
            "|document                                                                                                                                                                                                                                                                               |\n",
            "+---------------------------------------------------------------------------------------------------------------------------------------------------------------------------------------------------------------------------------------------------------------------------------------+\n",
            "|“The timing is right for this place to rise.” Petition for \n",
            "@NJGov\n",
            " to reinstate the monarchy with \n",
            "@IAMQUEENLATIFAH\n",
            " #Newark  #NJ #affordablehousing #QUEEN                                                                                                                           |\n",
            "|File under #WhatWouldJesusDo while other churches are supporting and creating #affordablehousing, the Catholic diocese is trying to stop desperately needed housing in #alexandriaVA                                                                                                   |\n",
            "|Pleased \n",
            "@AlboMP\n",
            " has highlighted #affordablehousing. I have raised it at elections for 2 decades & #politicians have run away from it saying 'market will fix it'. Watched sadly as many Aussies gave up dream of owning their home. Now lets create #agefriendlyhousing for #Seniors.|\n",
            "|43% of students at four-year universities experienced housing insecurity in 2020 and 14% of students experienced #homelessness in the last year.\n",
            "\n",
            "For some students, a lack of #affordablehousing could impact their ability to go to college.                                         |\n",
            "|Much #geography and #economics interest in this article --and glad to see emphasis on #regulation (which includes #historicpreservation \n",
            "@CHRSDC\n",
            " ) as an impediment to #affordablehousing.                                                                                            |\n",
            "|30 #BlackMen of #Kioba #BusinessVentures Seek To Increase #AffordableHousing For #BlackFamilies In #Baltimore                                                                                                                                                                          |\n",
            "|. It’s bad when people choose death because they can’t AFFORD life. #universalhealthcare #HomesForAll #AffordableHousing and just for good measure… #NeverVoteConservative #FiretheUCP                                                                                                 |\n",
            "|A cautionary tale if there ever was one. #affordablehousing                                                                                                                                                                                                                            |\n",
            "|Congress Holds Hearing on Fire Safety in Federally Assisted Housing. #AffordableHousing #NYC                                                                                                                                                                                           |\n",
            "|Hey \n",
            "@JohnTory\n",
            " this you? \n",
            "#toronto #affordablehousing                                                                                                                                                                                                                                 |\n",
            "+---------------------------------------------------------------------------------------------------------------------------------------------------------------------------------------------------------------------------------------------------------------------------------------+\n",
            "only showing top 10 rows\n",
            "\n"
          ]
        }
      ]
    },
    {
      "cell_type": "code",
      "source": [
        "res.select('document').filter(F.col('sentiment')=='surprise').show(10, truncate=False)"
      ],
      "metadata": {
        "colab": {
          "base_uri": "https://localhost:8080/"
        },
        "id": "1zjCS_Fjd2j8",
        "outputId": "7d72c6fb-279e-477c-b653-c02178fb3dc7"
      },
      "execution_count": 21,
      "outputs": [
        {
          "output_type": "stream",
          "name": "stdout",
          "text": [
            "+---------------------------------------------------------------------------------------------------------------------------------------------------------------------------------------------------------------------------------------------------------------------------------------------------------------------------------------------+\n",
            "|document                                                                                                                                                                                                                                                                                                                                     |\n",
            "+---------------------------------------------------------------------------------------------------------------------------------------------------------------------------------------------------------------------------------------------------------------------------------------------------------------------------------------------+\n",
            "|https://bit.ly/3y6TE9V #SundayStories #3DCP #3DConstruction #AffordableHousing #BB3D                                                                                                                                                                                                                                                         |\n",
            "|\"I think of that Parks & Rec Leslie Knope quote: ' when people are yelling, I just hear people caring very loudly' \"\n",
            "- Elizabeth Esposito, AICP\n",
            "#NPC22 #affordablehousing                                                                                                                                                                    |\n",
            "|As if you needed another reason to love Queen Latifah…my latest for \n",
            "@HipHopWired\n",
            " on how the rap icon is doing her part to create more #affordablehousing for the people in Newark \n",
            "U.N.I.T.Y.: Queen Latifah Builds Affordable Housing In Brick City https://hiphopwired.com/1171924/queen-latifah-affordable-housing-brick-city/… #writing|\n",
            "|Green Valley Ranch foreclosure sales included affordable housing units. Denver's trying to get them out of investors' hands. #affordablehousing  #hoa https://denverpost.com/2022/05/01/denver-hoa-foreclosures-green-valley-ranch-affordable-housing/… via \n",
            "@denverpost                                                                     |\n",
            "|TRICKledown economics a bad joke. #affordablehousing shortages nationwide because Americans need  #livablewage                                                                                                                                                                                                                               |\n",
            "|Break it down for the people in the back Madam \n",
            "@SpeakerPelosi\n",
            " \n",
            "Pro #livingwage Party, \n",
            "Pro #affordablehousing Party, \n",
            "Pro #universalhealthcare Party, \n",
            "Pro #universalchildcare\n",
            "Pro #inflationcontrol Party, \n",
            "Pro #studentloanforgiveness Party, Pro #familymedicalleave Party.\n",
            "#Democrat                                                   |\n",
            "|Tomorrow is the last day of early voting for the proposed 2022-2027 \n",
            "@COSAGOV\n",
            " municipal bond. \n",
            "\n",
            "I voted “YES” on all 6 propositions with a special interest in the #AffordableHousing bond (our city’s first) and Prop D & E, which I proudly served on.\n",
            "\n",
            "#TakingCareofSA #VoteYes4SABond                                                   |\n",
            "| Look at all those signatures! Big thanks to everyone across our coalition and beyond who came through to sign our petition and help us gather signatures! \n",
            "#AffordableHousing #HouseLA \n",
            "@UnitedToHouseLA                                                                                                                                    |\n",
            "|It's a big day for our \n",
            "@UnitedToHouseLA\n",
            " campaign! Today we delivered more than 98,000 petition signatures to qualify our initiative for the November General Election ballot in the City of LA. #AffordableHousing #HouseLA                                                                                                                |\n",
            "|Trivia will continue stay tuned!Made & built for you in #Ontario #BuyerBeware #healthandsafety #homebeliever #affordablehousing                                                                                                                                                                                                              |\n",
            "+---------------------------------------------------------------------------------------------------------------------------------------------------------------------------------------------------------------------------------------------------------------------------------------------------------------------------------------------+\n",
            "only showing top 10 rows\n",
            "\n"
          ]
        }
      ]
    },
    {
      "cell_type": "code",
      "source": [
        "res.select('document').filter(F.col('sentiment')=='sadness').show(10, truncate=False)"
      ],
      "metadata": {
        "colab": {
          "base_uri": "https://localhost:8080/"
        },
        "id": "oi-HdP5Vd4UG",
        "outputId": "328baeeb-9a73-47a2-b703-e621b8767b99"
      },
      "execution_count": 22,
      "outputs": [
        {
          "output_type": "stream",
          "name": "stdout",
          "text": [
            "+------------------------------------------------------------------------------------------------------------------------------------------------------------------------------------------------------------------------------------------------------------------------------------------------------------------------------------------------------+\n",
            "|document                                                                                                                                                                                                                                                                                                                                              |\n",
            "+------------------------------------------------------------------------------------------------------------------------------------------------------------------------------------------------------------------------------------------------------------------------------------------------------------------------------------------------------+\n",
            "|#Democats of #SanDiego  in power\n",
            "and so - responsible \n",
            "can't wait for #Todd and his fellows on #CityCouncil to claim that the reason we keep losing #affordablehousing it because of #PalmTrees in #PointLoma                                                                                                                                         |\n",
            "|#Vail, like most of Colorado’s mountain or resort towns, is experiencing a labor shortage due to soaring #housing costs.\n",
            "(Via: \n",
            "@denmanh\n",
            ") \n",
            "#affordablehousing #VailResorts                                                                                                                                                                           |\n",
            "|#Rentplus-UK is actively looking for #s106 affordable opportunities  across the #EastofEngland.\n",
            "\n",
            "If you are a #RegisteredProvider seeking support with your #affordablehousing obligation then do speak with us.\n",
            "\n",
            "#Section106 #RentSaveOwn #RentToBuy #AffordableHousing #RP                                                                          |\n",
            "|Hey, any and all at \n",
            "@UN\n",
            " #SDGs ... why on earth aren't you doing something with this account, started in 2017?  #SDG11 is *the* call to action right now, addressing #affordablehousing, #socialjustice, #transportation, #foodsystems and more. I'd love to curate the stream.                                                                      |\n",
            "|UK sucks\n",
            "#affordablehousing                                                                                                                                                                                                                                                                                                                           |\n",
            "|Doug Ford thinks relying on a 1950s sprawl-tactic will fix all our problems. \n",
            "\n",
            "Ontario Greens know there's a better way.\n",
            "\n",
            "We'll build more #AffordableHousing & get Ontario out of gridlock without paving over the places we love.\n",
            "\n",
            "#StopTheSprawl #onpoli\n",
            "https://gpo.ca/2022/05/02/ontario-greens-will-freeze-urban-boundaries-to-stop-the-sprawl/…|\n",
            "|Count me in to Vote for Full Rent Control not Doug Ford! Sign the petition: https://nwmd.io/s/twitter/Zh49AzHEHPLuRGWnLLY=/r…\n",
            "#rentcontrol #onpoli #affordablehousing #healthyhomes                                                                                                                                                                   |\n",
            "|Dan is looking for #AffordableHousing for his son. If he searched on Zillow or http://Apartments.com, chances are he’d find nothing affordable and leave discouraged. But Dan lives in Massachusetts and there's another option. https://bit.ly/3rMIa7w                                                                                               |\n",
            "|#MobileHomes are overlooked. When government provides #housing, ppl end up never getting out of the game of paying rent forever. Mobile home parks do EXACTLY the same thing in #Alberta. But they shouldn't.\n",
            "\n",
            "#OnlyInAlberta #affordablehousing\n",
            "#MobileHomeCrisis #ableg\n",
            "@nateglubish                                                                |\n",
            "| I just have no words. HB1601/HB978 was returned to the house with  #GovLee signature making #homelessness a felony by closing encampments. Not enough shelter beds & not enough #affordablehousing                                                                                                                                                   |\n",
            "+------------------------------------------------------------------------------------------------------------------------------------------------------------------------------------------------------------------------------------------------------------------------------------------------------------------------------------------------------+\n",
            "only showing top 10 rows\n",
            "\n"
          ]
        }
      ]
    },
    {
      "cell_type": "markdown",
      "metadata": {
        "id": "toi6M1CCO3EI"
      },
      "source": [
        "## Sarcasm"
      ]
    },
    {
      "cell_type": "code",
      "execution_count": null,
      "metadata": {
        "colab": {
          "base_uri": "https://localhost:8080/"
        },
        "id": "IiYxv0mOFIcX",
        "outputId": "b45c41c9-c00f-4b30-f94d-efc956da3419"
      },
      "outputs": [
        {
          "output_type": "stream",
          "name": "stdout",
          "text": [
            "tfhub_use download started this may take some time.\n",
            "Approximate size to download 923.7 MB\n",
            "[OK!]\n",
            "classifierdl_use_sarcasm download started this may take some time.\n",
            "Approximate size to download 21.3 MB\n",
            "[OK!]\n"
          ]
        }
      ],
      "source": [
        "MODEL_NAME='classifierdl_use_sarcasm'\n",
        "\n",
        "documentAssembler = DocumentAssembler()\\\n",
        "    .setInputCol(\"content\")\\\n",
        "    .setOutputCol(\"document\")\n",
        "    \n",
        "use = UniversalSentenceEncoder.pretrained(name=\"tfhub_use\", lang=\"en\")\\\n",
        " .setInputCols([\"document\"])\\\n",
        " .setOutputCol(\"sentence_embeddings\")\n",
        "\n",
        "\n",
        "sentimentdl = ClassifierDLModel.pretrained(name=MODEL_NAME)\\\n",
        "    .setInputCols([\"sentence_embeddings\"])\\\n",
        "    .setOutputCol(\"sentiment\")\n",
        "\n",
        "nlpPipeline = Pipeline(\n",
        "      stages = [\n",
        "          documentAssembler,\n",
        "          use,\n",
        "          sentimentdl\n",
        "      ])\n"
      ]
    },
    {
      "cell_type": "code",
      "execution_count": null,
      "metadata": {
        "id": "ajXsD_5FPOaD"
      },
      "outputs": [],
      "source": [
        "empty_df = spark.createDataFrame([['']]).toDF(\"content\")\n",
        "pipelineModel = nlpPipeline.fit(empty_df)\n",
        "result = pipelineModel.transform(df)"
      ]
    },
    {
      "cell_type": "code",
      "execution_count": null,
      "metadata": {
        "id": "TzJSQhTnFix5"
      },
      "outputs": [],
      "source": [
        "res = result.select(F.explode(F.arrays_zip('document.result', 'sentiment.result')).alias(\"cols\")) \\\n",
        ".select(F.expr(\"cols['0']\").alias(\"document\"),\n",
        "        F.expr(\"cols['1']\").alias(\"sentiment\"))\n"
      ]
    },
    {
      "cell_type": "code",
      "source": [
        "res.groupby('sentiment').count().show()"
      ],
      "metadata": {
        "id": "bcXsWkXETjY3",
        "outputId": "eb1d9b99-3337-4a15-a37d-92e1fc20ba6e",
        "colab": {
          "base_uri": "https://localhost:8080/"
        }
      },
      "execution_count": null,
      "outputs": [
        {
          "output_type": "stream",
          "name": "stdout",
          "text": [
            "+---------+-----+\n",
            "|sentiment|count|\n",
            "+---------+-----+\n",
            "|   normal| 8265|\n",
            "|  sarcasm|  152|\n",
            "+---------+-----+\n",
            "\n"
          ]
        }
      ]
    },
    {
      "cell_type": "code",
      "source": [
        "res.select('document').filter(F.col('sentiment')=='sarcasm').show(truncate=False)"
      ],
      "metadata": {
        "id": "z2rZASHDUXAn",
        "outputId": "476e7de6-c246-4294-cff8-cac5a41ce866",
        "colab": {
          "base_uri": "https://localhost:8080/"
        }
      },
      "execution_count": null,
      "outputs": [
        {
          "output_type": "stream",
          "name": "stdout",
          "text": [
            "+---------------------------------------------------------------------------------------------------------------------------------------------------------------------------------------------------------------------------------------------------------------------------------------+\n",
            "|document                                                                                                                                                                                                                                                                               |\n",
            "+---------------------------------------------------------------------------------------------------------------------------------------------------------------------------------------------------------------------------------------------------------------------------------------+\n",
            "|43% of students at four-year universities experienced housing insecurity in 2020 and 14% of students experienced #homelessness in the last year.\n",
            "\n",
            "For some students, a lack of #affordablehousing could impact their ability to go to college.                                         |\n",
            "|\"I think of that Parks & Rec Leslie Knope quote: ' when people are yelling, I just hear people caring very loudly' \"\n",
            "- Elizabeth Esposito, AICP\n",
            "#NPC22 #affordablehousing                                                                                                              |\n",
            "|#MayDay2022 we need a $20 minimum wage, Pharmacare, Paid sick days, #affordablehousing, an #Autism program, increases to #ODSP.  We have a lot to fix in Ontario! Come to 161 Elgan st at noon and join in the fight for a better Ontario. #onpoli #TeamCoenraad                       |\n",
            "|Skaters Glide Over Frozen Canal as Cold Persists in DC Area #affordablehousing                                                                                                                                                                                                         |\n",
            "|Only 2 weeks to go, but there's still time to sign up! What better way to spend a Friday than golfing with friends or colleagues & supporting critical home repair for your neighbors? Register today! https://tinyurl.com/4pbms6v7\n",
            "\n",
            "#golfforgood #AffordableHousing #ahipsafeathome   |\n",
            "|All hear from \n",
            "@LeaderMcConnell\n",
            " #MitchMcConnell #Trump #repugs #gop NO STINKING #childcare #daycare #equalpay #healthcare  #affordablehousing for you the list goes on and on                                                                                                         |\n",
            "|\"For those building rent-restricted projects using tax credits or other aid, the rising costs could quash an entire project. And the construction slowdown is coming at a time when there is a desperate need to increase supply..\" #AffordableHousing #LIHTC                          |\n",
            "|The present lack of affordable housing is exacerbated by policies excluding access to people because of race, class, & current policies to criminalize the tragedy of people living without a home. We must seek housing justice for ALL Minnesotans. #mnleg #affordablehousing        |\n",
            "|\"Housing is where jobs go to sleep at night.\" #affordablehousing #healthycommunities #YIMBY                                                                                                                                                                                            |\n",
            "|News articles like the these are frustrating, upsetting, and aggravating. #Dignifiedhousing is a #humanright and #affordablehousing needs to be properly managed. This is an ongoing issue in #Vancouver as well, particularly in the #DTES.                                           |\n",
            "|\"Affordable housing protesters staging a faux-eviction got evicted by city workers who hauled off their furniture\"\n",
            "\n",
            "#florida #affordablehousing #protestors #fauxeviction #backfire                                                                                                    |\n",
            "|Let just call it a day, show some real courage, and reinvent our downtown office spaces to #affordablehousing & vibrant 15 minute communities. Stop trying to force feed \"we need watercooler\" moments                                                                                 |\n",
            "|This is the kind of garbage thinking we have allowed to have sway in our politics/economy. Builders who think they are outside of the communities they build in. Not of them. Thinking constructive dismissal is a legit social interaction. Shame. #nspoli #Halifax #affordablehousing|\n",
            "|This was looking like a big collision at the polls, but it now looks to be avoided. Lowering property taxes will likely mean less revenue for schools and local governments. This story shows what was avoided and what may be affected. https://buff.ly/3LVluK7 #affordablehousing    |\n",
            "|It’s Mother’s Day weekend, and we’re proud of all the moms who give their best every day to make better lives for their families. #MothersDay #affordablehousing #JamboreeHousing                                                                                                      |\n",
            "|Same seat EVERY flight and the view never gets old! #jetblue #realestatelife #affordablehousing #seniorliving #bostontolosangeles #aginginplacespecialist #village2villagenetwork #seniorrealestatespecialist #affordableseniorhousing  \n",
            "@JetBlue                                      |\n",
            "|Some policy shift coming from the Conservatives. Like I always say, looking forward to seeing how/ whether it is implemented. Too many of us rent for too long without being able to buy a house. \n",
            "\n",
            "#affordablehousing                                                                 |\n",
            "|\"Just imagine a society where the needs of children and their families are generously met and where the idea of tearing children from their families as the way to care for them is laughable.\" #BasicIncome #UBI\n",
            " #AffordableHousing #system #habitableproperty                       |\n",
            "|Today, I proudly introduced my bill: Affordable Housing And Area Median Income Fairness Act of 2022. \n",
            "\n",
            "Affordable housing is entirely unattainable for far too many Americans, especially New Yorkers. The time is now to change that. \n",
            "\n",
            "#areamedianincome \n",
            "#AMI \n",
            "#affordablehousing   |\n",
            "|“An outcome in which nearly 1,000 households don’t get the assistance they are entitled to is unacceptable,” says #leadershipstudies prof \n",
            "@ThadWilliamson\n",
            " about the #eviction threat some #RVA households may face. #affordablehousing \n",
            "@URNews2Use\n",
            " @RTDNEWS                        |\n",
            "+---------------------------------------------------------------------------------------------------------------------------------------------------------------------------------------------------------------------------------------------------------------------------------------+\n",
            "only showing top 20 rows\n",
            "\n"
          ]
        }
      ]
    },
    {
      "cell_type": "code",
      "source": [
        ""
      ],
      "metadata": {
        "id": "QqhrUGwjVAJg"
      },
      "execution_count": null,
      "outputs": []
    }
  ],
  "metadata": {
    "colab": {
      "collapsed_sections": [],
      "name": "sentiment.ipynb",
      "provenance": []
    },
    "interpreter": {
      "hash": "45150093197569bb3a58481dcd32cd1adb45462fa3448719e8ac38ada6166aca"
    },
    "kernelspec": {
      "display_name": "Python 3.6.10 64-bit ('tensorflow2_p36': conda)",
      "name": "python3"
    },
    "language_info": {
      "codemirror_mode": {
        "name": "ipython",
        "version": 3
      },
      "file_extension": ".py",
      "mimetype": "text/x-python",
      "name": "python",
      "nbconvert_exporter": "python",
      "pygments_lexer": "ipython3",
      "version": "3.6.10"
    }
  },
  "nbformat": 4,
  "nbformat_minor": 0
}